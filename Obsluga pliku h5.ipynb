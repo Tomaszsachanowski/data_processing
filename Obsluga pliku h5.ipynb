{
 "cells": [
  {
   "cell_type": "code",
   "execution_count": 56,
   "metadata": {},
   "outputs": [
    {
     "name": "stdout",
     "output_type": "stream",
     "text": [
      "/\n",
      "/home/tsachanowski/cxidb-21-run0130/cxidb-21-run0131/data1/Plik1.h5\n",
      "r\n",
      "sec2\n",
      "('earliest', 'latest')\n",
      "0\n",
      "{'LCLS': {'detector0-EncoderValue': <HDF5 dataset \"detector0-EncoderValue\": shape (1,), type \"<f8\">, 'detector0-Position': <HDF5 dataset \"detector0-Position\": shape (1,), type \"<f8\">, 'ebeamCharge': <HDF5 dataset \"ebeamCharge\": shape (1,), type \"<f8\">, 'ebeamL3Energy': <HDF5 dataset \"ebeamL3Energy\": shape (1,), type \"<f8\">, 'ebeamLTUAngX': <HDF5 dataset \"ebeamLTUAngX\": shape (1,), type \"<f8\">, 'ebeamLTUAngY': <HDF5 dataset \"ebeamLTUAngY\": shape (1,), type \"<f8\">, 'ebeamLTUPosX': <HDF5 dataset \"ebeamLTUPosX\": shape (1,), type \"<f8\">, 'ebeamLTUPosY': <HDF5 dataset \"ebeamLTUPosY\": shape (1,), type \"<f8\">, 'ebeamPkCurrBC2': <HDF5 dataset \"ebeamPkCurrBC2\": shape (1,), type \"<f8\">, 'eventTime': <HDF5 dataset \"eventTime\": shape (), type \"|S26\">, 'eventTimeString': <HDF5 dataset \"eventTimeString\": shape (), type \"|S26\">, 'evr41': <HDF5 dataset \"evr41\": shape (1,), type \"<i4\">, 'f_11_ENRC': <HDF5 dataset \"f_11_ENRC\": shape (1,), type \"<f8\">, 'f_12_ENRC': <HDF5 dataset \"f_12_ENRC\": shape (1,), type \"<f8\">, 'f_21_ENRC': <HDF5 dataset \"f_21_ENRC\": shape (1,), type \"<f8\">, 'f_22_ENRC': <HDF5 dataset \"f_22_ENRC\": shape (1,), type \"<f8\">, 'fiducial': <HDF5 dataset \"fiducial\": shape (1,), type \"<i4\">, 'machineTime': <HDF5 dataset \"machineTime\": shape (1,), type \"<i4\">, 'phaseCavityCharge1': <HDF5 dataset \"phaseCavityCharge1\": shape (1,), type \"<f8\">, 'phaseCavityCharge2': <HDF5 dataset \"phaseCavityCharge2\": shape (1,), type \"<f8\">, 'phaseCavityTime1': <HDF5 dataset \"phaseCavityTime1\": shape (1,), type \"<f8\">, 'phaseCavityTime2': <HDF5 dataset \"phaseCavityTime2\": shape (1,), type \"<f8\">, 'photon_energy_eV': <HDF5 dataset \"photon_energy_eV\": shape (1,), type \"<f8\">, 'photon_wavelength_A': <HDF5 dataset \"photon_wavelength_A\": shape (1,), type \"<f8\">}, 'data': {'data': <HDF5 dataset \"data\": shape (1480, 1552), type \"<i2\">, 'radialAverage0': <HDF5 dataset \"radialAverage0\": shape (1175,), type \"<f4\">, 'radialAverageCounter0': <HDF5 dataset \"radialAverageCounter0\": shape (1175,), type \"<f4\">, 'rawdata': <HDF5 dataset \"rawdata\": shape (1480, 1552), type \"<i2\">, 'rawdata0': <HDF5 dataset \"rawdata0\": shape (1480, 1552), type \"<i2\">}, 'processing': {'cheetah': {'peakinfo': <HDF5 dataset \"peakinfo\": shape (18, 4), type \"<f8\">, 'peakinfo-assembled': <HDF5 dataset \"peakinfo-assembled\": shape (18, 4), type \"<f8\">, 'peakinfo-raw': <HDF5 dataset \"peakinfo-raw\": shape (18, 4), type \"<f8\">, 'pixelmasks': <HDF5 dataset \"pixelmasks\": shape (1480, 1552), type \"|i1\">}, 'hitfinder': {'peakinfo': <HDF5 dataset \"peakinfo\": shape (18, 4), type \"<f8\">, 'peakinfo-assembled': <HDF5 dataset \"peakinfo-assembled\": shape (18, 4), type \"<f8\">, 'peakinfo-raw': <HDF5 dataset \"peakinfo-raw\": shape (18, 4), type \"<f8\">, 'pixelmasks': <HDF5 dataset \"pixelmasks\": shape (1480, 1552), type \"|i1\">}}}\n"
     ]
    }
   ],
   "source": [
    "import h5py\n",
    "import numpy as np\n",
    "def printname(name):\n",
    "        print (name)\n",
    "def katalog(slownik):\n",
    "    for x in slownik.keys():\n",
    "        if type(slownik[x]) ==  h5py._hl.group.Group: #czyli dana nazwa jest grupa\n",
    "            slownik[x] = {z : slownik[x][z]  for z in  slownik[x] }\n",
    "            #  slownik pod danym kluczem \n",
    "            #ma katalog to z tego robie  slownik ktory ajko klucz ma nazwe rzeczy w tym katalogu \n",
    "            #a wartsoc to jest referencja do tego pliku/katalogu\n",
    "            katalog(slownik[x])\n",
    "    return slownik\n",
    "        \n",
    "with  h5py.File(\"/home/tsachanowski/cxidb-21-run0130/cxidb-21-run0131/data1/Plik1.h5\",\"r\") as f:\n",
    "    # zmaina na PLIK1 tylko bez siciezki\n",
    "    print(f.name)\n",
    "    print(f.filename) #!!!!! to daje nazwe\n",
    "    print(f.mode)\n",
    "    print(f.driver)\n",
    "    print(f.libver)\n",
    "    print(f.userblock_size)\n",
    "    diction = {x:f[x] for x in f}\n",
    "    diction = katalog(diction)\n",
    "    print(diction) #wypisze mi caly plik \n",
    "    #for x in diction.keys():\n",
    "    #    print(x,type(diction[x]))\n",
    "    #    print()\n",
    "    #    for y in diction[x][y]:\n",
    "    #        print(y)\n",
    "    #for x in f:\n",
    "    #    print(type(f[x]))\n",
    "    #print()\n",
    "    #print(diction)\n",
    "    #for x in diction: #przechodze po zewnetrznych pliokach\n",
    "   #    diction[x] = {y:f[x][y] for y in diction[x]}\n",
    "   # print(diction.keys())\n",
    "   # for x in diction:\n",
    "   #     print(diction[x].keys())\n",
    "   #     print()\n",
    "   #     for y in diction[x]:\n",
    "   #         if type(diction[x][y]) != h5py._hl.group.Group :\n",
    "   #             print(diction[x][y])\n",
    "    # to wewnetrzne foldery\n",
    "   # for x in f:\n",
    "   #     diction[x] = {y:x[y] for y in diction[x]}\n",
    "   # print(diction)\n",
    "   # a = [x for x in f]\n",
    "   # print(a)\n",
    "   # gbr = f[a[-1]] #do data\n",
    "   # print(gbr.name)\n",
    "   # print()\n",
    "   # gbr.visit(printname)\n",
    "   # print()\n",
    "   # for x in gbr:\n",
    "   #     print(x)\n",
    "   # print()\n",
    "   # f.visit(printname)"
   ]
  },
  {
   "cell_type": "code",
   "execution_count": 41,
   "metadata": {},
   "outputs": [
    {
     "name": "stdout",
     "output_type": "stream",
     "text": [
      "<class 'int'>\n"
     ]
    }
   ],
   "source": [
    "a =5\n",
    "print (type(a))"
   ]
  },
  {
   "cell_type": "code",
   "execution_count": null,
   "metadata": {},
   "outputs": [],
   "source": []
  }
 ],
 "metadata": {
  "kernelspec": {
   "display_name": "Python 3",
   "language": "python",
   "name": "python3"
  },
  "language_info": {
   "codemirror_mode": {
    "name": "ipython",
    "version": 3
   },
   "file_extension": ".py",
   "mimetype": "text/x-python",
   "name": "python",
   "nbconvert_exporter": "python",
   "pygments_lexer": "ipython3",
   "version": "3.6.5"
  }
 },
 "nbformat": 4,
 "nbformat_minor": 2
}
