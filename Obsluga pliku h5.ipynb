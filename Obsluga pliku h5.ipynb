{
 "cells": [
  {
   "cell_type": "code",
   "execution_count": 26,
   "metadata": {},
   "outputs": [
    {
     "name": "stdout",
     "output_type": "stream",
     "text": [
      "LCLS <HDF5 group \"/LCLS\" (24 members)>\n"
     ]
    },
    {
     "ename": "KeyError",
     "evalue": "'detector0-EncoderValue'",
     "output_type": "error",
     "traceback": [
      "\u001b[0;31m---------------------------------------------------------------------------\u001b[0m",
      "\u001b[0;31mKeyError\u001b[0m                                  Traceback (most recent call last)",
      "\u001b[0;32m<ipython-input-26-810f4c67c3c6>\u001b[0m in \u001b[0;36m<module>\u001b[0;34m()\u001b[0m\n\u001b[1;32m     48\u001b[0m \u001b[0;34m\u001b[0m\u001b[0m\n\u001b[1;32m     49\u001b[0m     \u001b[0mdiction\u001b[0m \u001b[0;34m=\u001b[0m \u001b[0;34m{\u001b[0m\u001b[0mx\u001b[0m\u001b[0;34m:\u001b[0m\u001b[0mf\u001b[0m\u001b[0;34m[\u001b[0m\u001b[0mx\u001b[0m\u001b[0;34m]\u001b[0m \u001b[0;32mfor\u001b[0m \u001b[0mx\u001b[0m \u001b[0;32min\u001b[0m \u001b[0mf\u001b[0m\u001b[0;34m}\u001b[0m\u001b[0;34m\u001b[0m\u001b[0m\n\u001b[0;32m---> 50\u001b[0;31m     \u001b[0mprint\u001b[0m\u001b[0;34m(\u001b[0m \u001b[0mslownik_plikow\u001b[0m\u001b[0;34m(\u001b[0m\u001b[0mdiction\u001b[0m\u001b[0;34m)\u001b[0m \u001b[0;34m)\u001b[0m\u001b[0;34m\u001b[0m\u001b[0m\n\u001b[0m\u001b[1;32m     51\u001b[0m     \u001b[0mdiction\u001b[0m \u001b[0;34m=\u001b[0m \u001b[0mkatalog\u001b[0m\u001b[0;34m(\u001b[0m\u001b[0mdiction\u001b[0m\u001b[0;34m)\u001b[0m\u001b[0;34m\u001b[0m\u001b[0m\n\u001b[1;32m     52\u001b[0m \u001b[0;31m#   print(diction)\u001b[0m\u001b[0;34m\u001b[0m\u001b[0;34m\u001b[0m\u001b[0m\n",
      "\u001b[0;32m<ipython-input-26-810f4c67c3c6>\u001b[0m in \u001b[0;36mslownik_plikow\u001b[0;34m(slownik)\u001b[0m\n\u001b[1;32m     20\u001b[0m         \u001b[0;32mif\u001b[0m  \u001b[0mtype\u001b[0m\u001b[0;34m(\u001b[0m\u001b[0mslownik\u001b[0m\u001b[0;34m[\u001b[0m\u001b[0mx\u001b[0m\u001b[0;34m]\u001b[0m\u001b[0;34m)\u001b[0m \u001b[0;34m==\u001b[0m \u001b[0mh5py\u001b[0m\u001b[0;34m.\u001b[0m\u001b[0m_hl\u001b[0m\u001b[0;34m.\u001b[0m\u001b[0mgroup\u001b[0m\u001b[0;34m.\u001b[0m\u001b[0mGroup\u001b[0m\u001b[0;34m:\u001b[0m\u001b[0;34m\u001b[0m\u001b[0m\n\u001b[1;32m     21\u001b[0m             \u001b[0mprint\u001b[0m\u001b[0;34m(\u001b[0m\u001b[0mx\u001b[0m\u001b[0;34m,\u001b[0m\u001b[0mslownik\u001b[0m\u001b[0;34m[\u001b[0m\u001b[0mx\u001b[0m\u001b[0;34m]\u001b[0m\u001b[0;34m)\u001b[0m\u001b[0;34m\u001b[0m\u001b[0m\n\u001b[0;32m---> 22\u001b[0;31m             \u001b[0mslownik_danych\u001b[0m\u001b[0;34m.\u001b[0m\u001b[0mupdate\u001b[0m\u001b[0;34m(\u001b[0m\u001b[0mslownik_plikow\u001b[0m\u001b[0;34m(\u001b[0m\u001b[0mslownik\u001b[0m\u001b[0;34m[\u001b[0m\u001b[0mx\u001b[0m\u001b[0;34m]\u001b[0m\u001b[0;34m)\u001b[0m\u001b[0;34m)\u001b[0m\u001b[0;34m\u001b[0m\u001b[0m\n\u001b[0m\u001b[1;32m     23\u001b[0m         \u001b[0;32melse\u001b[0m\u001b[0;34m:\u001b[0m\u001b[0;34m\u001b[0m\u001b[0m\n\u001b[1;32m     24\u001b[0m             \u001b[0mslownik_danych\u001b[0m\u001b[0;34m[\u001b[0m\u001b[0mx\u001b[0m\u001b[0;34m]\u001b[0m \u001b[0;34m==\u001b[0m  \u001b[0mslownik\u001b[0m\u001b[0;34m[\u001b[0m\u001b[0mx\u001b[0m\u001b[0;34m]\u001b[0m\u001b[0;34m\u001b[0m\u001b[0m\n",
      "\u001b[0;32m<ipython-input-26-810f4c67c3c6>\u001b[0m in \u001b[0;36mslownik_plikow\u001b[0;34m(slownik)\u001b[0m\n\u001b[1;32m     22\u001b[0m             \u001b[0mslownik_danych\u001b[0m\u001b[0;34m.\u001b[0m\u001b[0mupdate\u001b[0m\u001b[0;34m(\u001b[0m\u001b[0mslownik_plikow\u001b[0m\u001b[0;34m(\u001b[0m\u001b[0mslownik\u001b[0m\u001b[0;34m[\u001b[0m\u001b[0mx\u001b[0m\u001b[0;34m]\u001b[0m\u001b[0;34m)\u001b[0m\u001b[0;34m)\u001b[0m\u001b[0;34m\u001b[0m\u001b[0m\n\u001b[1;32m     23\u001b[0m         \u001b[0;32melse\u001b[0m\u001b[0;34m:\u001b[0m\u001b[0;34m\u001b[0m\u001b[0m\n\u001b[0;32m---> 24\u001b[0;31m             \u001b[0mslownik_danych\u001b[0m\u001b[0;34m[\u001b[0m\u001b[0mx\u001b[0m\u001b[0;34m]\u001b[0m \u001b[0;34m==\u001b[0m  \u001b[0mslownik\u001b[0m\u001b[0;34m[\u001b[0m\u001b[0mx\u001b[0m\u001b[0;34m]\u001b[0m\u001b[0;34m\u001b[0m\u001b[0m\n\u001b[0m\u001b[1;32m     25\u001b[0m     \u001b[0;32mreturn\u001b[0m \u001b[0mslownik_danych\u001b[0m\u001b[0;34m\u001b[0m\u001b[0m\n\u001b[1;32m     26\u001b[0m \u001b[0;32mdef\u001b[0m \u001b[0mkatalog\u001b[0m\u001b[0;34m(\u001b[0m\u001b[0mslownik\u001b[0m\u001b[0;34m)\u001b[0m\u001b[0;34m:\u001b[0m\u001b[0;34m\u001b[0m\u001b[0m\n",
      "\u001b[0;31mKeyError\u001b[0m: 'detector0-EncoderValue'"
     ]
    }
   ],
   "source": [
    "import h5py\n",
    "import numpy as np\n",
    "def printer_pliku(slownik):\n",
    "    for x in slownik:\n",
    "        print(x,end=': ')\n",
    "        if type(slownik[x]) == h5py._hl.group.Group:\n",
    "            printer_pliku(slownik[x])\n",
    "        else:   \n",
    "            for y in slownik[x]:\n",
    "                print(y,\"---\")\n",
    "    print()\n",
    "\n",
    "    \n",
    "def printname(name):\n",
    "        print (name)\n",
    "        \n",
    "def slownik_plikow(slownik):\n",
    "    slownik_danych = {}\n",
    "    for x in slownik.keys():\n",
    "        if  type(slownik[x]) == h5py._hl.group.Group:\n",
    "            print(x,slownik[x])\n",
    "            slownik_danych.update(slownik_plikow(slownik[x]))\n",
    "        else:\n",
    "            slownik_danych[x] ==  slownik[x]\n",
    "    return slownik_danych\n",
    "def katalog(slownik):\n",
    "    for x in slownik.keys():\n",
    "        if type(slownik[x]) ==  h5py._hl.group.Group: #czyli dana nazwa jest grupa\n",
    "            slownik[x] = {z : slownik[x][z]  for z in  slownik[x] }\n",
    "            #  slownik pod danym kluczem \n",
    "            #ma katalog to z tego robie  slownik ktory ajko klucz ma nazwe rzeczy w tym katalogu \n",
    "            #a wartsoc to jest referencja do tego pliku/katalogu\n",
    "            katalog(slownik[x])\n",
    "   #return slownik\n",
    "        \n",
    "with  h5py.File(\"/home/tsachanowski/cxidb-21-run0130/cxidb-21-run0131/data1/Plik1.h5\",\"r\") as f:\n",
    "    # zmaina na PLIK1 tylko bez siciezki\n",
    "   # print(f.name)\n",
    "   # print(f.filename) #!!!!! to daje nazwe\n",
    "   # print(f.mode)\n",
    "   # print(f.driver)\n",
    "   # print(f.libver)\n",
    "   # print(f.userblock_size)\n",
    "    a = f[\"LCLS\"]\n",
    "    b = a[\"evr41\"]\n",
    "  # print(type(a))\n",
    "  # print(type(b))\n",
    "\n",
    "    diction = {x:f[x] for x in f}\n",
    "    print( slownik_plikow(diction) )\n",
    "    diction = katalog(diction)\n",
    "#   print(diction)\n",
    "    dane = {}\n",
    "    #printer_pliku(diction) #wypisze mi caly plik \n",
    "    #for x in diction.keys():\n",
    "    #    print(x,type(diction[x]))\n",
    "    #    print()\n",
    "    #    for y in diction[x][y]:\n",
    "    #        print(y)\n",
    "    #for x in f:\n",
    "    #    print(type(f[x]))\n",
    "    #print()\n",
    "    #print(diction)\n",
    "    #for x in diction: #przechodze po zewnetrznych pliokach\n",
    "   #    diction[x] = {y:f[x][y] for y in diction[x]}\n",
    "   # print(diction.keys())\n",
    "   # for x in diction:\n",
    "   #     print(diction[x].keys())\n",
    "   #     print()\n",
    "   #     for y in diction[x]:\n",
    "   #         if type(diction[x][y]) != h5py._hl.group.Group :\n",
    "   #             print(diction[x][y])\n",
    "    # to wewnetrzne foldery\n",
    "   # for x in f:\n",
    "   #     diction[x] = {y:x[y] for y in diction[x]}\n",
    "   # print(diction)\n",
    "   # a = [x for x in f]\n",
    "   # print(a)\n",
    "   # gbr = f[a[-1]] #do data\n",
    "   # print(gbr.name)\n",
    "   # print()\n",
    "   # gbr.visit(printname)\n",
    "   # print()\n",
    "   # for x in gbr:\n",
    "   #     print(x)\n",
    "   # print()\n",
    "   # f.visit(printname)\n",
    "    "
   ]
  },
  {
   "cell_type": "code",
   "execution_count": 41,
   "metadata": {},
   "outputs": [
    {
     "name": "stdout",
     "output_type": "stream",
     "text": [
      "<class 'int'>\n"
     ]
    }
   ],
   "source": [
    "a =5\n",
    "print (type(a))"
   ]
  },
  {
   "cell_type": "code",
   "execution_count": 11,
   "metadata": {},
   "outputs": [],
   "source": [
    "slownik = {}\n",
    "slownik.update"
   ]
  },
  {
   "cell_type": "code",
   "execution_count": null,
   "metadata": {},
   "outputs": [],
   "source": []
  }
 ],
 "metadata": {
  "kernelspec": {
   "display_name": "Python 3",
   "language": "python",
   "name": "python3"
  },
  "language_info": {
   "codemirror_mode": {
    "name": "ipython",
    "version": 3
   },
   "file_extension": ".py",
   "mimetype": "text/x-python",
   "name": "python",
   "nbconvert_exporter": "python",
   "pygments_lexer": "ipython3",
   "version": "3.6.5"
  }
 },
 "nbformat": 4,
 "nbformat_minor": 2
}
