{
 "cells": [
  {
   "cell_type": "code",
   "execution_count": 60,
   "metadata": {
    "scrolled": true
   },
   "outputs": [
    {
     "data": {
      "image/png": "[encoded data removed]",
      "text/plain": [
       "<Figure size 432x288 with 1 Axes>"
      ]
     },
     "metadata": {},
     "output_type": "display_data"
    }
   ],
   "source": [
    "import numpy as np\n",
    "import cfelpyutils.crystfel_utils as c\n",
    "import cfelpyutils.geometry_utils as g\n",
    "import h5py\n",
    "import numpy as np\n",
    "import matplotlib.pyplot as plt\n",
    "\n",
    "class Detector:\n",
    "    \"\"\"\" A reprezentation detector\n",
    "        min_fs - min index in columns\n",
    "        min_ss - min index in rows\n",
    "        max_fs - max index in columns\n",
    "        max_ss - max index in rows\n",
    "        corner_x/corner_y - reprezentation position in Canvas\n",
    "        \n",
    "    \n",
    "    \"\"\"\n",
    "    def __init__(self,name,min_fs,min_ss,max_fs,max_ss,xfs,yfs,xss,yss\\\n",
    "                 ,corner_x,corner_y,data):\n",
    "        self.name = name\n",
    "        self.min_fs = min_fs\n",
    "        self.min_ss = min_ss\n",
    "        self.max_fs = max_fs\n",
    "        self.max_ss = max_ss\n",
    "        self.xfs = xfs\n",
    "        self.yfs = yfs\n",
    "        self.xss = xss\n",
    "        self.yss = yss\n",
    "        self.corner_x = corner_x\n",
    "        self.corner_y = corner_y\n",
    "        self.array = np.copy(data[self.min_ss : self.max_ss , self.min_fs : self.max_fs])\n",
    "        #self.array = np.copy(matrix)\n",
    "        \n",
    "    def get_min_fs(self):\n",
    "        return self.min_fs\n",
    "    def get_min_ss(self):\n",
    "        return self.min_ss\n",
    "    def get_max_fs(self):\n",
    "        return self.max_fs\n",
    "    def get_max_ss(self):\n",
    "        return self.max_ss\n",
    "    def get_xfs(self):\n",
    "        return self.xfs\n",
    "    def get_yfs(self):\n",
    "        return self.yfs\n",
    "    def get_xss(self):\n",
    "        return self.xss\n",
    "    def get_yss(self):\n",
    "        return self.yss\n",
    "    def corner_x(self):\n",
    "        return self.corner_x\n",
    "    def corner_y(self):\n",
    "        return self.corner_y\n",
    "    \n",
    "    def set_min_fs(self,min_fs):\n",
    "        self.min_fs = min_fs\n",
    "    def set_min_ss(self,min_ss):\n",
    "        self.min_ss = min_ss\n",
    "    def set_max_fs(self,max_fs):\n",
    "        self.max_fs = max_fs\n",
    "    def set_max_ss(self,max_ss):\n",
    "        self.max_ss = max_ss\n",
    "    def set_xfs(self,xfs):\n",
    "        self.xfs = xfs\n",
    "    def set_yfs(self,yfs):\n",
    "        self.yfs = yfs\n",
    "    def set_xss(self,xss):   \n",
    "        self.xss = xss\n",
    "    def set_yss(self,yss):\n",
    "        self.yss = yss\n",
    "    def set_corner_x(self,corner_x):\n",
    "        self.corner_x = corner_x\n",
    "    def set_corner_y(self,corner_y):\n",
    "        self.corner_y = corner_y\n",
    "    def Printer(self):\n",
    "        print(self.name,self.array)\n",
    "              #self.min_fs,self.min_ss,self.max_fs,self.max_ss)\n",
    "    def set_array(self,matrix):\n",
    "        self.array = matrix[self.min_ss : self.max_ss , self.min_fs : self.max_fs]\n",
    "    def get_array(self):\n",
    "        return self.array\n",
    "    \n",
    "# parsefile to ditc the geom file global\n",
    "geom = c.load_crystfel_geometry(\"/home/tsachanowski/CrystFELL_tutorial/5HT2B-Liu-2013.geom\")\n",
    "\n",
    "\n",
    "# tworzy dict do plikow chirarcha drzewa\n",
    "def katalog(slownik):\n",
    "    for x in slownik.keys():\n",
    "        if type(slownik[x]) ==  h5py._hl.group.Group: #czyli dana nazwa jest grupa\n",
    "            slownik[x] = {z : slownik[x][z]  for z in  slownik[x] }\n",
    "            #  slownik pod danym kluczem \n",
    "            #ma katalog to z tego robie  slownik ktory ajko klucz ma nazwe rzeczy w tym katalogu \n",
    "            #a wartsoc to jest referencja do tego pliku/katalogu\n",
    "            katalog(slownik[x])\n",
    "    return slownik\n",
    "\n",
    "#pobiera dane ze slownika\n",
    "def dane_obrazu (slownik):\n",
    "    for x in slownik.keys():\n",
    "        if x == \"data\":\n",
    "            if type(slownik[x]) == h5py._hl.dataset.Dataset:\n",
    "                return slownik[x]\n",
    "            else:\n",
    "                return dane_obrazu(slownik[x])\n",
    "    return None \n",
    "def table(file):\n",
    "    \n",
    "        with  h5py.File(file,\"r\") as f:\n",
    "            diction = {x:f[x] for x in f}\n",
    "            diction2 = katalog(diction)  \n",
    "            data1 = dane_obrazu(diction2)\n",
    "            Detectors = Data_Detectors(geom,data1)\n",
    "            #for x in Detectors:\n",
    "            #    Detectors[x].Printer()\n",
    "            Obraz = np.zeros((1736,1742))\n",
    "            Obraz[871-236:871+184-236,868:868+193]=Detectors['q0a2'].get_array()\n",
    "            plt.imshow(np.uint8(Obraz),)\n",
    "            plt.show()\n",
    "\n",
    "def Data_Detectors(geom,data1):    \n",
    "    Detectors = {x:Detector(name=x, corner_x=geom[\"panels\"][x][\"cnx\"],\\\n",
    "    corner_y=geom[\"panels\"][x][\"cny\"],min_fs = geom[\"panels\"][x][\"min_fs\"],\\\n",
    "    min_ss = geom[\"panels\"][x][\"min_ss\"],max_fs =geom[\"panels\"][x][\"max_fs\"],\\\n",
    "    max_ss = geom[\"panels\"][x][\"max_ss\"],xfs = geom[\"panels\"][x][\"xfs\"],\\\n",
    "    yfs = geom[\"panels\"][x][\"yfs\"], xss = geom[\"panels\"][x][\"xss\"],\\\n",
    "    yss = geom[\"panels\"][x][\"max_fs\"],data = data1) for x in geom[\"panels\"] }\n",
    "    \n",
    "    return Detectors #dict witch all detectors value\n",
    "\n",
    "       \n",
    "table(\"Plik3.h5\")"
   ]
  },
  {
   "cell_type": "code",
   "execution_count": 32,
   "metadata": {},
   "outputs": [
    {
     "name": "stdout",
     "output_type": "stream",
     "text": [
      "(1736, 1742)\n"
     ]
    }
   ],
   "source": [
    "import cfelpyutils.crystfel_utils as c\n",
    "import cfelpyutils.geometry_utils as g\n",
    "geom = c.load_crystfel_geometry(\"/home/tsachanowski/CrystFELL_tutorial/5HT2B-Liu-2013.geom\")\n",
    "print(g.compute_min_array_size(g.compute_pix_maps(geom)))\n"
   ]
  },
  {
   "cell_type": "code",
   "execution_count": 44,
   "metadata": {},
   "outputs": [
    {
     "name": "stdout",
     "output_type": "stream",
     "text": [
      "[[1 1 1 2]\n",
      " [2 2 2 2]\n",
      " [9 9 6 1]]\n",
      "\n",
      "[[9 9 6 1]\n",
      " [2 2 2 2]\n",
      " [1 1 1 2]]\n",
      "\n",
      "[[1 2 9]\n",
      " [1 2 9]\n",
      " [1 2 6]\n",
      " [2 2 1]]\n"
     ]
    }
   ],
   "source": [
    "import numpy as np\n",
    "x = np.array([[1,1,1,2],[2,2,2,2],[9,9,6,1]])\n",
    "print(x)\n",
    "print()\n",
    "x= x[::-1,]\n",
    "print(x)\n",
    "print()\n",
    "print(np.rot90(x,-1))"
   ]
  },
  {
   "cell_type": "code",
   "execution_count": null,
   "metadata": {},
   "outputs": [],
   "source": []
  }
 ],
 "metadata": {
  "kernelspec": {
   "display_name": "Python 3",
   "language": "python",
   "name": "python3"
  },
  "language_info": {
   "codemirror_mode": {
    "name": "ipython",
    "version": 3
   },
   "file_extension": ".py",
   "mimetype": "text/x-python",
   "name": "python",
   "nbconvert_exporter": "python",
   "pygments_lexer": "ipython3",
   "version": "3.6.5"
  }
 },
 "nbformat": 4,
 "nbformat_minor": 2
}
