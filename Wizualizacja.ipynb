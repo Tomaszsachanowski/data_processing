{
 "cells": [
  {
   "cell_type": "code",
   "execution_count": 24,
   "metadata": {},
   "outputs": [
    {
     "name": "stdout",
     "output_type": "stream",
     "text": [
      "[[  0   0]\n",
      " [  0 141]\n",
      " [  0  96]\n",
      " [  0 134]\n",
      " [  0 127]\n",
      " [  0 107]\n",
      " [  0 141]\n",
      " [  0  95]\n",
      " [  0  70]\n",
      " [  0  70]]\n"
     ]
    }
   ],
   "source": [
    "import h5py\n",
    "import numpy as np\n",
    "def katalog(slownik):\n",
    "    for x in slownik.keys():\n",
    "        if type(slownik[x]) ==  h5py._hl.group.Group: #czyli dana nazwa jest grupa\n",
    "            slownik[x] = {z : slownik[x][z]  for z in  slownik[x] }\n",
    "            #  slownik pod danym kluczem \n",
    "            #ma katalog to z tego robie  slownik ktory ajko klucz ma nazwe rzeczy w tym katalogu \n",
    "            #a wartsoc to jest referencja do tego pliku/katalogu\n",
    "            katalog(slownik[x])\n",
    "    return slownik\n",
    "def dane_obrazu (slownik):\n",
    "    for x in slownik.keys():\n",
    "        if x == \"data\":\n",
    "            if type(slownik[x]) == h5py._hl.dataset.Dataset:\n",
    "                return slownik[x]\n",
    "            else:\n",
    "                return dane_obrazu(slownik[x])\n",
    "    return None \n",
    "def table(file):\n",
    "    try:    \n",
    "        with  h5py.File(file,\"r\") as f:\n",
    "            diction = {x:f[x] for x in f}\n",
    "            diction2 = katalog(diction) \n",
    "            data = dane_obrazu(diction2)\n",
    "            print(data[0:10,0:2])\n",
    "    except:\n",
    "        pass\n",
    "    \n",
    "table(\"Plik1.h5\")"
   ]
  },
  {
   "cell_type": "code",
   "execution_count": null,
   "metadata": {},
   "outputs": [],
   "source": []
  }
 ],
 "metadata": {
  "kernelspec": {
   "display_name": "Python 3",
   "language": "python",
   "name": "python3"
  },
  "language_info": {
   "codemirror_mode": {
    "name": "ipython",
    "version": 3
   },
   "file_extension": ".py",
   "mimetype": "text/x-python",
   "name": "python",
   "nbconvert_exporter": "python",
   "pygments_lexer": "ipython3",
   "version": "3.6.5"
  }
 },
 "nbformat": 4,
 "nbformat_minor": 2
}
