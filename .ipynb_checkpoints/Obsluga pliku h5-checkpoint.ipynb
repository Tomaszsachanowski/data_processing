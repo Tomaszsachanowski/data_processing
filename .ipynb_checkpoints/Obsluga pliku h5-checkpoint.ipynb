{
 "cells": [
  {
   "cell_type": "code",
   "execution_count": 24,
   "metadata": {},
   "outputs": [
    {
     "name": "stdout",
     "output_type": "stream",
     "text": [
      "/\n",
      "/home/tsachanowski/cxidb-21-run0130/cxidb-21-run0131/data1/Plik1.h5\n",
      "r\n",
      "sec2\n",
      "('earliest', 'latest')\n",
      "0\n",
      "\n",
      "{'detector0-EncoderValue': <HDF5 dataset \"detector0-EncoderValue\": shape (1,), type \"<f8\">, 'detector0-Position': <HDF5 dataset \"detector0-Position\": shape (1,), type \"<f8\">, 'ebeamCharge': <HDF5 dataset \"ebeamCharge\": shape (1,), type \"<f8\">, 'ebeamL3Energy': <HDF5 dataset \"ebeamL3Energy\": shape (1,), type \"<f8\">, 'ebeamLTUAngX': <HDF5 dataset \"ebeamLTUAngX\": shape (1,), type \"<f8\">, 'ebeamLTUAngY': <HDF5 dataset \"ebeamLTUAngY\": shape (1,), type \"<f8\">, 'ebeamLTUPosX': <HDF5 dataset \"ebeamLTUPosX\": shape (1,), type \"<f8\">, 'ebeamLTUPosY': <HDF5 dataset \"ebeamLTUPosY\": shape (1,), type \"<f8\">, 'ebeamPkCurrBC2': <HDF5 dataset \"ebeamPkCurrBC2\": shape (1,), type \"<f8\">, 'eventTime': <HDF5 dataset \"eventTime\": shape (), type \"|S26\">, 'eventTimeString': <HDF5 dataset \"eventTimeString\": shape (), type \"|S26\">, 'evr41': <HDF5 dataset \"evr41\": shape (1,), type \"<i4\">, 'f_11_ENRC': <HDF5 dataset \"f_11_ENRC\": shape (1,), type \"<f8\">, 'f_12_ENRC': <HDF5 dataset \"f_12_ENRC\": shape (1,), type \"<f8\">, 'f_21_ENRC': <HDF5 dataset \"f_21_ENRC\": shape (1,), type \"<f8\">, 'f_22_ENRC': <HDF5 dataset \"f_22_ENRC\": shape (1,), type \"<f8\">, 'fiducial': <HDF5 dataset \"fiducial\": shape (1,), type \"<i4\">, 'machineTime': <HDF5 dataset \"machineTime\": shape (1,), type \"<i4\">, 'phaseCavityCharge1': <HDF5 dataset \"phaseCavityCharge1\": shape (1,), type \"<f8\">, 'phaseCavityCharge2': <HDF5 dataset \"phaseCavityCharge2\": shape (1,), type \"<f8\">, 'phaseCavityTime1': <HDF5 dataset \"phaseCavityTime1\": shape (1,), type \"<f8\">, 'phaseCavityTime2': <HDF5 dataset \"phaseCavityTime2\": shape (1,), type \"<f8\">, 'photon_energy_eV': <HDF5 dataset \"photon_energy_eV\": shape (1,), type \"<f8\">, 'photon_wavelength_A': <HDF5 dataset \"photon_wavelength_A\": shape (1,), type \"<f8\">}\n",
      "{'data': <HDF5 dataset \"data\": shape (1480, 1552), type \"<i2\">, 'radialAverage0': <HDF5 dataset \"radialAverage0\": shape (1175,), type \"<f4\">, 'radialAverageCounter0': <HDF5 dataset \"radialAverageCounter0\": shape (1175,), type \"<f4\">, 'rawdata': <HDF5 dataset \"rawdata\": shape (1480, 1552), type \"<i2\">, 'rawdata0': <HDF5 dataset \"rawdata0\": shape (1480, 1552), type \"<i2\">}\n",
      "{'cheetah': <HDF5 group \"/processing/cheetah\" (4 members)>, 'hitfinder': <HDF5 group \"/processing/hitfinder\" (4 members)>}\n"
     ]
    }
   ],
   "source": [
    "import h5py\n",
    "import numpy as np\n",
    "def printname(name):\n",
    "        print (name)\n",
    "with  h5py.File(\"/home/tsachanowski/cxidb-21-run0130/cxidb-21-run0131/data1/Plik1.h5\",\"r\") as f:\n",
    "    \n",
    "    print(f.name)\n",
    "    print(f.filename) #!!!!! to daje nazwe\n",
    "    print(f.mode)\n",
    "    print(f.driver)\n",
    "    print(f.libver)\n",
    "    print(f.userblock_size)\n",
    "    diction = {x:f[x] for x in f}\n",
    "    print()\n",
    "    #print(diction)\n",
    "    for x in f:\n",
    "        a = {y:f[x][y] for y in diction[x]}\n",
    "        print(a) # to wewnetrzne foldery\n",
    "   # for x in f:\n",
    "   #     diction[x] = {y:x[y] for y in diction[x]}\n",
    "   # print(diction)\n",
    "   # a = [x for x in f]\n",
    "   # print(a)\n",
    "   # gbr = f[a[-1]] #do data\n",
    "   # print(gbr.name)\n",
    "   # print()\n",
    "   # gbr.visit(printname)\n",
    "   # print()\n",
    "   # for x in gbr:\n",
    "   #     print(x)\n",
    "   # print()\n",
    "   # f.visit(printname)"
   ]
  },
  {
   "cell_type": "code",
   "execution_count": null,
   "metadata": {},
   "outputs": [],
   "source": []
  }
 ],
 "metadata": {
  "kernelspec": {
   "display_name": "Python 3",
   "language": "python",
   "name": "python3"
  },
  "language_info": {
   "codemirror_mode": {
    "name": "ipython",
    "version": 3
   },
   "file_extension": ".py",
   "mimetype": "text/x-python",
   "name": "python",
   "nbconvert_exporter": "python",
   "pygments_lexer": "ipython3",
   "version": "3.6.5"
  }
 },
 "nbformat": 4,
 "nbformat_minor": 2
}
