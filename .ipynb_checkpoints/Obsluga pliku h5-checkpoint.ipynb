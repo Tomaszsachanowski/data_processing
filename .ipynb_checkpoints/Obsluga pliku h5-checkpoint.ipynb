{
 "cells": [
  {
   "cell_type": "code",
   "execution_count": 68,
   "metadata": {},
   "outputs": [
    {
     "name": "stdout",
     "output_type": "stream",
     "text": [
      "/\n",
      "/home/tsachanowski/cxidb-21-run0130/cxidb-21-run0131/data1/Plik1.h5\n",
      "r\n",
      "sec2\n",
      "('earliest', 'latest')\n",
      "0\n",
      "LCLS: detector0-EncoderValue ---\n",
      "detector0-Position ---\n",
      "ebeamCharge ---\n",
      "ebeamL3Energy ---\n",
      "ebeamLTUAngX ---\n",
      "ebeamLTUAngY ---\n",
      "ebeamLTUPosX ---\n",
      "ebeamLTUPosY ---\n",
      "ebeamPkCurrBC2 ---\n",
      "eventTime ---\n",
      "eventTimeString ---\n",
      "evr41 ---\n",
      "f_11_ENRC ---\n",
      "f_12_ENRC ---\n",
      "f_21_ENRC ---\n",
      "f_22_ENRC ---\n",
      "fiducial ---\n",
      "machineTime ---\n",
      "phaseCavityCharge1 ---\n",
      "phaseCavityCharge2 ---\n",
      "phaseCavityTime1 ---\n",
      "phaseCavityTime2 ---\n",
      "photon_energy_eV ---\n",
      "photon_wavelength_A ---\n",
      "data: data ---\n",
      "radialAverage0 ---\n",
      "radialAverageCounter0 ---\n",
      "rawdata ---\n",
      "rawdata0 ---\n",
      "processing: cheetah ---\n",
      "hitfinder ---\n",
      "\n"
     ]
    }
   ],
   "source": [
    "import h5py\n",
    "import numpy as np\n",
    "def printer_pliku(slownik):\n",
    "    for x in slownik:\n",
    "        print(x,end=': ')\n",
    "        if type(slownik[x]) == h5py._hl.group.Group:\n",
    "            printer_pliku(slownik[x])\n",
    "        else:   \n",
    "            for y in slownik[x]:\n",
    "                print(y,\"---\")\n",
    "    print()\n",
    "        \n",
    "def printname(name):\n",
    "        print (name)\n",
    "def katalog(slownik):\n",
    "    for x in slownik.keys():\n",
    "        if type(slownik[x]) ==  h5py._hl.group.Group: #czyli dana nazwa jest grupa\n",
    "            slownik[x] = {z : slownik[x][z]  for z in  slownik[x] }\n",
    "            #  slownik pod danym kluczem \n",
    "            #ma katalog to z tego robie  slownik ktory ajko klucz ma nazwe rzeczy w tym katalogu \n",
    "            #a wartsoc to jest referencja do tego pliku/katalogu\n",
    "            katalog(slownik[x])\n",
    "    return slownik\n",
    "        \n",
    "with  h5py.File(\"/home/tsachanowski/cxidb-21-run0130/cxidb-21-run0131/data1/Plik1.h5\",\"r\") as f:\n",
    "    # zmaina na PLIK1 tylko bez siciezki\n",
    "    print(f.name)\n",
    "    print(f.filename) #!!!!! to daje nazwe\n",
    "    print(f.mode)\n",
    "    print(f.driver)\n",
    "    print(f.libver)\n",
    "    print(f.userblock_size)\n",
    "    diction = {x:f[x] for x in f}\n",
    "    diction = katalog(diction)\n",
    "    printer_pliku(diction) #wypisze mi caly plik \n",
    "    #for x in diction.keys():\n",
    "    #    print(x,type(diction[x]))\n",
    "    #    print()\n",
    "    #    for y in diction[x][y]:\n",
    "    #        print(y)\n",
    "    #for x in f:\n",
    "    #    print(type(f[x]))\n",
    "    #print()\n",
    "    #print(diction)\n",
    "    #for x in diction: #przechodze po zewnetrznych pliokach\n",
    "   #    diction[x] = {y:f[x][y] for y in diction[x]}\n",
    "   # print(diction.keys())\n",
    "   # for x in diction:\n",
    "   #     print(diction[x].keys())\n",
    "   #     print()\n",
    "   #     for y in diction[x]:\n",
    "   #         if type(diction[x][y]) != h5py._hl.group.Group :\n",
    "   #             print(diction[x][y])\n",
    "    # to wewnetrzne foldery\n",
    "   # for x in f:\n",
    "   #     diction[x] = {y:x[y] for y in diction[x]}\n",
    "   # print(diction)\n",
    "   # a = [x for x in f]\n",
    "   # print(a)\n",
    "   # gbr = f[a[-1]] #do data\n",
    "   # print(gbr.name)\n",
    "   # print()\n",
    "   # gbr.visit(printname)\n",
    "   # print()\n",
    "   # for x in gbr:\n",
    "   #     print(x)\n",
    "   # print()\n",
    "   # f.visit(printname)"
   ]
  },
  {
   "cell_type": "code",
   "execution_count": 41,
   "metadata": {},
   "outputs": [
    {
     "name": "stdout",
     "output_type": "stream",
     "text": [
      "<class 'int'>\n"
     ]
    }
   ],
   "source": [
    "a =5\n",
    "print (type(a))"
   ]
  },
  {
   "cell_type": "code",
   "execution_count": null,
   "metadata": {},
   "outputs": [],
   "source": []
  }
 ],
 "metadata": {
  "kernelspec": {
   "display_name": "Python 3",
   "language": "python",
   "name": "python3"
  },
  "language_info": {
   "codemirror_mode": {
    "name": "ipython",
    "version": 3
   },
   "file_extension": ".py",
   "mimetype": "text/x-python",
   "name": "python",
   "nbconvert_exporter": "python",
   "pygments_lexer": "ipython3",
   "version": "3.6.5"
  }
 },
 "nbformat": 4,
 "nbformat_minor": 2
}
