{
 "cells": [
  {
   "cell_type": "code",
   "execution_count": 2,
   "metadata": {},
   "outputs": [],
   "source": [
    "import numpy as np\n",
    "import cfelpyutils.crystfel_utils as c\n",
    "geom = c.load_crystfel_geometry(\"/home/tsachanowski/CrystFELL_tutorial/5HT2B-Liu-2013.geom\")\n",
    "\n",
    "class Detector:\n",
    "    \"\"\"\" A reprezentation detector\n",
    "        min_fs - min index in columns\n",
    "        min_ss - min index in rows\n",
    "        max_fs - max index in columns\n",
    "        max_ss - max index in rows\n",
    "        corner_x/corner_y - reprezentation position in Canvas\n",
    "        \n",
    "    \n",
    "    \"\"\"\n",
    "    def __init__(self,name,min_fs,min_ss,max_fs,max_ss,xfs,yfs,xss,yss\\\n",
    "                 ,corner_x,corner_y):\n",
    "        self.name = name\n",
    "        self.min_fs = min_fs\n",
    "        self.min_ss = min_ss\n",
    "        self.max_fs = max_fs\n",
    "        self.max_ss = max_ss\n",
    "        self.xfs = xfs\n",
    "        self.yfs = yfs\n",
    "        self.xss = xss\n",
    "        self.yss = yss\n",
    "        self.corner_x = corner_x\n",
    "        self.corner_y = corner_y\n",
    "\n",
    "        \n",
    "    def get_min_fs(self):\n",
    "        return self.min_fs\n",
    "    def get_min_ss(self):\n",
    "        return self.min_ss\n",
    "    def get_max_fs(self):\n",
    "        return self.max_fs\n",
    "    def get_max_ss(self):\n",
    "        return self.max_ss\n",
    "    def get_xfs(self):\n",
    "        return self.xfs\n",
    "    def get_yfs(self):\n",
    "        return self.yfs\n",
    "    def get_xss(self):\n",
    "        return self.xss\n",
    "    def get_yss(self):\n",
    "        return self.yss\n",
    "    def corner_x(self):\n",
    "        return self.corner_x\n",
    "    def corner_y(self):\n",
    "        return self.corner_y\n",
    "    \n",
    "    def set_min_fs(self,min_fs):\n",
    "        self.min_fs = min_fs\n",
    "    def set_min_ss(self,min_ss):\n",
    "        self.min_ss = min_ss\n",
    "    def set_max_fs(self,max_fs):\n",
    "        self.max_fs = max_fs\n",
    "    def set_max_ss(self,max_ss):\n",
    "        self.max_ss = max_ss\n",
    "    def set_fs(self,fs):\n",
    "        self.fs = fs\n",
    "    def set_ss(self,ss):   \n",
    "        self.ss = ss\n",
    "    def set_corner_x(self,corner_x):\n",
    "        self.corner_x = corner_x\n",
    "    def set_corner_y(self,corner_y):\n",
    "        self.corner_y = corner_y\n",
    "    \n",
    "    def set_array(self,matrix):\n",
    "        self.array = np.array(matrix[min_ss:max_ss,min_fs:max_fs])\n",
    "    def get_array(self):\n",
    "        return self.array\n",
    "    \n",
    "    \n",
    "Detectors = {x:Detector(name=x, corner_x=geom[\"panels\"][x][\"cnx\"],\\\n",
    "corner_y=geom[\"panels\"][x][\"cny\"],min_fs = geom[\"panels\"][x][\"min_fs\"],\\\n",
    "min_ss = geom[\"panels\"][x][\"min_ss\"],max_fs =geom[\"panels\"][x][\"max_fs\"]\\\n",
    "max_ss = geom[\"panels\"][x][\"max_ss\"],xfs = geom[\"panels\"][x][\"xfs\"],\\\n",
    "yfs = geom[\"panels\"][x][\"yfs\"], xss = geom[\"panels\"][x][\"xss\"],\\\n",
    "yss = geom[\"panels\"][x][\"max_fs\"]                   \n",
    "                       ) for x in geom[\"panels\"] }\n"
   ]
  },
  {
   "cell_type": "code",
   "execution_count": 3,
   "metadata": {
    "scrolled": false
   },
   "outputs": [
    {
     "name": "stdout",
     "output_type": "stream",
     "text": [
      "{'cnx': 450.549, 'cny': -26.0936, 'clen': -1, 'coffset': 0.582, 'res': 9097.525473, 'badrow': '-', 'no_index': False, 'fsx': -0.005902, 'fsy': 0.999983, 'fsz': 0.0, 'ssx': -0.999983, 'ssy': -0.005902, 'ssz': 0.0, 'rail_x': 0.0, 'rail_y': 0.0, 'rail_z': 1.0, 'clen_for_centering': 0.0, 'adu_per_eV': 0.00105, 'adu_per_photon': None, 'max_adu': inf, 'mask': None, 'mask_file': None, 'satmap': None, 'satmap_file': None, 'data': None, 'dim_structure': ['ss', 'fs'], 'name': '', 'clen_from': '/LCLS/detector0-EncoderValue', 'origin_min_fs': 0, 'min_fs': 0, 'origin_min_ss': 0, 'min_ss': 0, 'origin_max_fs': 193, 'max_fs': 193, 'origin_max_ss': 184, 'max_ss': 184, 'w': 194, 'h': 185, 'xfs': -0.005901995078367618, 'yfs': -0.9999821661218715, 'xss': 0.9999821661218715, 'yss': -0.005901995078367618}\n"
     ]
    }
   ],
   "source": [
    "import cfelpyutils.crystfel_utils as c\n",
    "import cfelpyutils.geometry_utils as g\n",
    "import numpy as np\n",
    "import matplotlib.pyplot as plt\n",
    "geom = c.load_crystfel_geometry(\"/home/tsachanowski/CrystFELL_tutorial/5HT2B-Liu-2013.geom\")\n",
    "print(geom[\"panels\"]['q0a0'])\n",
    "\n"
   ]
  },
  {
   "cell_type": "code",
   "execution_count": null,
   "metadata": {},
   "outputs": [],
   "source": []
  }
 ],
 "metadata": {
  "kernelspec": {
   "display_name": "Python 3",
   "language": "python",
   "name": "python3"
  },
  "language_info": {
   "codemirror_mode": {
    "name": "ipython",
    "version": 3
   },
   "file_extension": ".py",
   "mimetype": "text/x-python",
   "name": "python",
   "nbconvert_exporter": "python",
   "pygments_lexer": "ipython3",
   "version": "3.6.5"
  }
 },
 "nbformat": 4,
 "nbformat_minor": 2
}
