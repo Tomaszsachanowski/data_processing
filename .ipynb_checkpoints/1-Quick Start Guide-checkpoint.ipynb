{
 "cells": [
  {
   "cell_type": "code",
   "execution_count": 56,
   "metadata": {},
   "outputs": [
    {
     "name": "stdout",
     "output_type": "stream",
     "text": [
      "KeysView(<HDF5 file \"mytestfiel.hdf5\" (mode r+)>) ---\n"
     ]
    }
   ],
   "source": [
    "import h5py\n",
    "import numpy as np\n",
    "\n",
    "def Printer(name):\n",
    "    print(name)\n",
    "    \n",
    "    \n",
    "with  h5py.File(\"mytestfiel.hdf5\",\"w\") as f:\n",
    "    dset = f.create_dataset(\"mydataset\",(100,2), dtype = 'i')\n",
    "    dset.attrs['temperature'] = 99.5\n",
    "    dset.attrs['po_co'] = \"Po nic\"\n",
    "    #for x in dset.attrs:\n",
    "    #    print(x,\":\",dset.attrs[x])\n",
    "    print(f.keys(),\"---\")\n",
    "    #print(f.values())\n",
    "    #print(dset.name)\n",
    "    #print(f.name)\n",
    "    dset = f['mydataset']\n",
    "    #print(dset.shape)\n",
    "    #print(dset.dtype)\n",
    "    dset[0:, 0 ] = np.arange(100)\n",
    "    dset[0:, 1 ] = np.arange(100,200)\n",
    "with h5py.File(\"mytestfiel.hdf5\",\"r+\") as f:\n",
    "    grp = f.create_group(\"subgroup1\")\n",
    "    grp = f.create_group(\"subgroup2\")\n",
    "    grp = f.create_group(\"subgroup3\")\n",
    "    grp = f.create_group(\"subgroup4\")\n",
    "    dset2 = grp.create_dataset(\"another_results\",(50,),dtype='f')\n",
    "    dset2 = grp.create_dataset(\"another_results2\",(50,),dtype='f')\n",
    "    #print(dset2.name)\n",
    "    dset3 = f.create_dataset('subgroup2/dataset_three', (10,), dtype='i')\n",
    "    #print(dset3.name)\n",
    "    #name = [x for x in f] #lub f.keys() \n",
    "    #print(name[-1])\n",
    "        \n",
    "    #print('mydataset' in f)\n",
    "    #print('subgroup4/another_results' in f)\n",
    "    #print('another_results' in f)\n",
    "    #f.visit(Printer)\n",
    "    #f[\"subgroup4\"].visit(Printer)\n",
    "    \n"
   ]
  },
  {
   "cell_type": "code",
   "execution_count": null,
   "metadata": {},
   "outputs": [],
   "source": []
  }
 ],
 "metadata": {
  "kernelspec": {
   "display_name": "Python 3",
   "language": "python",
   "name": "python3"
  },
  "language_info": {
   "codemirror_mode": {
    "name": "ipython",
    "version": 3
   },
   "file_extension": ".py",
   "mimetype": "text/x-python",
   "name": "python",
   "nbconvert_exporter": "python",
   "pygments_lexer": "ipython3",
   "version": "3.6.5"
  }
 },
 "nbformat": 4,
 "nbformat_minor": 2
}
